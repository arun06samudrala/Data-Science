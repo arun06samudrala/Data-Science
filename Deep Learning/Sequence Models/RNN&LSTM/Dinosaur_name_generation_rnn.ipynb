{
 "cells": [
  {
   "cell_type": "code",
   "execution_count": 98,
   "metadata": {},
   "outputs": [],
   "source": [
    "import numpy as np\n",
    "import random\n",
    "import pprint\n",
    "import copy"
   ]
  },
  {
   "cell_type": "code",
   "execution_count": 99,
   "metadata": {},
   "outputs": [],
   "source": [
    "def softmax(x):\n",
    "    e_x = np.exp(x - np.max(x))\n",
    "    return e_x / e_x.sum(axis=0)"
   ]
  },
  {
   "cell_type": "code",
   "execution_count": 100,
   "metadata": {},
   "outputs": [],
   "source": [
    "def sigmoid(x):\n",
    "    return 1 / (1 + np.exp(-x))"
   ]
  },
  {
   "cell_type": "code",
   "execution_count": 101,
   "metadata": {},
   "outputs": [],
   "source": [
    "def smooth(loss, cur_loss):\n",
    "    return loss * 0.999 + cur_loss * 0.001"
   ]
  },
  {
   "cell_type": "code",
   "execution_count": 102,
   "metadata": {},
   "outputs": [],
   "source": [
    "def print_sample(sample_ix, ix_to_char):\n",
    "    txt = ''.join(ix_to_char[ix] for ix in sample_ix)\n",
    "    txt = txt[0].upper() + txt[1:]  # capitalize first character \n",
    "    print ('%s' % (txt, ), end='')"
   ]
  },
  {
   "cell_type": "code",
   "execution_count": 103,
   "metadata": {},
   "outputs": [],
   "source": [
    "def get_sample(sample_ix, ix_to_char):\n",
    "    txt = ''.join(ix_to_char[ix] for ix in sample_ix)\n",
    "    txt = txt[0].upper() + txt[1:]  # capitalize first character \n",
    "    return txt\n"
   ]
  },
  {
   "cell_type": "code",
   "execution_count": 104,
   "metadata": {},
   "outputs": [],
   "source": [
    "def get_initial_loss(vocab_size, seq_length):\n",
    "    return -np.log(1.0/vocab_size)*seq_length"
   ]
  },
  {
   "cell_type": "code",
   "execution_count": 105,
   "metadata": {},
   "outputs": [],
   "source": [
    "def initialize_parameters(n_a, n_x, n_y):\n",
    "    \"\"\"\n",
    "    Initialize parameters with small random values\n",
    "    \n",
    "    Returns:\n",
    "    parameters -- python dictionary containing:\n",
    "                        Wax -- Weight matrix multiplying the input, numpy array of shape (n_a, n_x)\n",
    "                        Waa -- Weight matrix multiplying the hidden state, numpy array of shape (n_a, n_a)\n",
    "                        Wya -- Weight matrix relating the hidden-state to the output, numpy array of shape (n_y, n_a)\n",
    "                        b --  Bias, numpy array of shape (n_a, 1)\n",
    "                        by -- Bias relating the hidden-state to the output, numpy array of shape (n_y, 1)\n",
    "    \"\"\"\n",
    "    np.random.seed(1)\n",
    "    Wax = np.random.randn(n_a, n_x)*0.01 # input to hidden\n",
    "    Waa = np.random.randn(n_a, n_a)*0.01 # hidden to hidden\n",
    "    Wya = np.random.randn(n_y, n_a)*0.01 # hidden to output\n",
    "    b = np.zeros((n_a, 1)) # hidden bias\n",
    "    by = np.zeros((n_y, 1)) # output bias\n",
    "    \n",
    "    parameters = {\"Wax\": Wax, \"Waa\": Waa, \"Wya\": Wya, \"b\": b,\"by\": by}\n",
    "    \n",
    "    return parameters"
   ]
  },
  {
   "cell_type": "code",
   "execution_count": 106,
   "metadata": {},
   "outputs": [],
   "source": [
    "def rnn_step_forward(parameters, a_prev, x):\n",
    "    \n",
    "    Waa, Wax, Wya, by, b = parameters['Waa'], parameters['Wax'], parameters['Wya'], parameters['by'], parameters['b']\n",
    "    a_next = np.tanh(np.dot(Wax, x) + np.dot(Waa, a_prev) + b) # hidden state\n",
    "    p_t = softmax(np.dot(Wya, a_next) + by) # unnormalized log probabilities for next chars # probabilities for next chars \n",
    "    \n",
    "    return a_next, p_t"
   ]
  },
  {
   "cell_type": "code",
   "execution_count": 107,
   "metadata": {},
   "outputs": [],
   "source": [
    "def rnn_forward(X, Y, a0, parameters, vocab_size = 27):\n",
    "    \n",
    "    # Initialize x, a and y_hat as empty dictionaries\n",
    "    x, a, y_hat = {}, {}, {}\n",
    "    \n",
    "    a[-1] = np.copy(a0)\n",
    "    \n",
    "    # initialize your loss to 0\n",
    "    loss = 0\n",
    "    \n",
    "    for t in range(len(X)):\n",
    "        \n",
    "        # Set x[t] to be the one-hot vector representation of the t'th character in X.\n",
    "        # if X[t] == None, we just have x[t]=0. This is used to set the input for the first timestep to the zero vector. \n",
    "        x[t] = np.zeros((vocab_size,1)) \n",
    "        if (X[t] != None):\n",
    "            x[t][X[t]] = 1\n",
    "        \n",
    "        # Run one step forward of the RNN\n",
    "        a[t], y_hat[t] = rnn_step_forward(parameters, a[t-1], x[t])\n",
    "        \n",
    "        # Update the loss by substracting the cross-entropy term of this time-step from it.\n",
    "        loss -= np.log(y_hat[t][Y[t],0])\n",
    "        \n",
    "    cache = (y_hat, a, x)\n",
    "        \n",
    "    return loss, cache"
   ]
  },
  {
   "cell_type": "code",
   "execution_count": 108,
   "metadata": {},
   "outputs": [],
   "source": [
    "def rnn_step_backward(dy, gradients, parameters, x, a, a_prev):\n",
    "    \n",
    "    gradients['dWya'] += np.dot(dy, a.T)\n",
    "    gradients['dby'] += dy\n",
    "    da = np.dot(parameters['Wya'].T, dy) + gradients['da_next'] # backprop into h\n",
    "    daraw = (1 - a * a) * da # backprop through tanh nonlinearity\n",
    "    gradients['db'] += daraw\n",
    "    gradients['dWax'] += np.dot(daraw, x.T)\n",
    "    gradients['dWaa'] += np.dot(daraw, a_prev.T)\n",
    "    gradients['da_next'] = np.dot(parameters['Waa'].T, daraw)\n",
    "    return gradients"
   ]
  },
  {
   "cell_type": "code",
   "execution_count": 109,
   "metadata": {},
   "outputs": [],
   "source": [
    "def rnn_backward(X, Y, parameters, cache):\n",
    "    # Initialize gradients as an empty dictionary\n",
    "    gradients = {}\n",
    "    \n",
    "    # Retrieve from cache and parameters\n",
    "    (y_hat, a, x) = cache\n",
    "    Waa, Wax, Wya, by, b = parameters['Waa'], parameters['Wax'], parameters['Wya'], parameters['by'], parameters['b']\n",
    "    \n",
    "    # each one should be initialized to zeros of the same dimension as its corresponding parameter\n",
    "    gradients['dWax'], gradients['dWaa'], gradients['dWya'] = np.zeros_like(Wax), np.zeros_like(Waa), np.zeros_like(Wya)\n",
    "    gradients['db'], gradients['dby'] = np.zeros_like(b), np.zeros_like(by)\n",
    "    gradients['da_next'] = np.zeros_like(a[0])\n",
    "    \n",
    "    ### START CODE HERE ###\n",
    "    # Backpropagate through time\n",
    "    for t in reversed(range(len(X))):\n",
    "        dy = np.copy(y_hat[t])\n",
    "        dy[Y[t]] -= 1\n",
    "        gradients = rnn_step_backward(dy, gradients, parameters, x[t], a[t], a[t-1])\n",
    "    ### END CODE HERE ###\n",
    "    \n",
    "    return gradients, a"
   ]
  },
  {
   "cell_type": "code",
   "execution_count": 110,
   "metadata": {},
   "outputs": [],
   "source": [
    "def update_parameters(parameters, gradients, lr):\n",
    "\n",
    "    parameters['Wax'] += -lr * gradients['dWax']\n",
    "    parameters['Waa'] += -lr * gradients['dWaa']\n",
    "    parameters['Wya'] += -lr * gradients['dWya']\n",
    "    parameters['b']  += -lr * gradients['db']\n",
    "    parameters['by']  += -lr * gradients['dby']\n",
    "    return parameters"
   ]
  },
  {
   "cell_type": "code",
   "execution_count": 111,
   "metadata": {},
   "outputs": [],
   "source": [
    "data = open('/Users/arun/Downloads/dinos.txt', 'r').read()\n",
    "data = data.lower()"
   ]
  },
  {
   "cell_type": "code",
   "execution_count": 112,
   "metadata": {},
   "outputs": [
    {
     "name": "stdout",
     "output_type": "stream",
     "text": [
      "There are 19909 total characters and 27 unique characters.\n"
     ]
    }
   ],
   "source": [
    "chars = list(set(data))\n",
    "data_size, vocab_size = len(data), len(chars) \n",
    "print (f'There are {data_size} total characters and {vocab_size} unique characters.')"
   ]
  },
  {
   "cell_type": "code",
   "execution_count": 113,
   "metadata": {},
   "outputs": [
    {
     "name": "stdout",
     "output_type": "stream",
     "text": [
      "['\\n', 'a', 'b', 'c', 'd', 'e', 'f', 'g', 'h', 'i', 'j', 'k', 'l', 'm', 'n', 'o', 'p', 'q', 'r', 's', 't', 'u', 'v', 'w', 'x', 'y', 'z']\n"
     ]
    }
   ],
   "source": [
    "chars = sorted(chars)\n",
    "print(chars)"
   ]
  },
  {
   "cell_type": "code",
   "execution_count": 114,
   "metadata": {},
   "outputs": [
    {
     "name": "stdout",
     "output_type": "stream",
     "text": [
      "{'\\n': 0, 'a': 1, 'b': 2, 'c': 3, 'd': 4, 'e': 5, 'f': 6, 'g': 7, 'h': 8, 'i': 9, 'j': 10, 'k': 11, 'l': 12, 'm': 13, 'n': 14, 'o': 15, 'p': 16, 'q': 17, 'r': 18, 's': 19, 't': 20, 'u': 21, 'v': 22, 'w': 23, 'x': 24, 'y': 25, 'z': 26}\n"
     ]
    }
   ],
   "source": [
    "char_to_ix = { ch:i for i, ch in enumerate(chars)}\n",
    "print(char_to_ix)"
   ]
  },
  {
   "cell_type": "code",
   "execution_count": 115,
   "metadata": {},
   "outputs": [
    {
     "name": "stdout",
     "output_type": "stream",
     "text": [
      "{   0: '\\n',\n",
      "    1: 'a',\n",
      "    2: 'b',\n",
      "    3: 'c',\n",
      "    4: 'd',\n",
      "    5: 'e',\n",
      "    6: 'f',\n",
      "    7: 'g',\n",
      "    8: 'h',\n",
      "    9: 'i',\n",
      "    10: 'j',\n",
      "    11: 'k',\n",
      "    12: 'l',\n",
      "    13: 'm',\n",
      "    14: 'n',\n",
      "    15: 'o',\n",
      "    16: 'p',\n",
      "    17: 'q',\n",
      "    18: 'r',\n",
      "    19: 's',\n",
      "    20: 't',\n",
      "    21: 'u',\n",
      "    22: 'v',\n",
      "    23: 'w',\n",
      "    24: 'x',\n",
      "    25: 'y',\n",
      "    26: 'z'}\n"
     ]
    }
   ],
   "source": [
    "ix_to_char = { i:ch for i, ch in enumerate(chars)}\n",
    "pp = pprint.PrettyPrinter(indent=4)\n",
    "pp.pprint(ix_to_char)"
   ]
  },
  {
   "cell_type": "code",
   "execution_count": 116,
   "metadata": {},
   "outputs": [],
   "source": [
    "def clip(gradients, maxValue):\n",
    "    gradients = copy.deepcopy(gradients)\n",
    "    dWaa, dWax, dWya, db, dby = gradients['dWaa'], gradients['dWax'], gradients['dWya'], gradients['db'], gradients['dby']\n",
    "\n",
    "    for gradient in gradients:\n",
    "        np.clip(gradients[gradient], -maxValue, maxValue, out = gradients[gradient])\n",
    "    \n",
    "    gradients = {\"dWaa\": dWaa, \"dWax\": dWax, \"dWya\": dWya, \"db\": db, \"dby\": dby}\n",
    "    return gradients"
   ]
  },
  {
   "cell_type": "code",
   "execution_count": 117,
   "metadata": {},
   "outputs": [],
   "source": [
    "def sample(parameters, char_to_ix, seed):\n",
    "    Waa, Wax, Wya, by, b = parameters['Waa'], parameters['Wax'], parameters['Wya'], parameters['by'], parameters['b']\n",
    "    vocab_size = by.shape[0]\n",
    "    n_a = Waa.shape[1]\n",
    "\n",
    "    x = np.zeros((vocab_size, 1))\n",
    "    a_prev = np.zeros((n_a, 1))\n",
    "\n",
    "    indices = []\n",
    "    idx = -1\n",
    "\n",
    "    counter = 0\n",
    "    newline_character = char_to_ix['\\n']\n",
    "\n",
    "    while (idx!= newline_character and counter!=50):\n",
    "        a = np.tanh(np.dot(Wax, x) + np.dot(Waa, a_prev) + b)\n",
    "        z = np.dot(Wya, a) + by\n",
    "        y = softmax(z)\n",
    "\n",
    "        np.random.seed(counter + seed)\n",
    "\n",
    "        idx = np.random.choice(range(len(y)), p = np.squeeze(y))\n",
    "        indices.append(idx)\n",
    "\n",
    "        x = np.zeros((vocab_size, 1))\n",
    "        x[idx] = 1\n",
    "\n",
    "        a_prev = a\n",
    "\n",
    "        seed += 1\n",
    "        counter += 1\n",
    "\n",
    "    if (counter == 50):\n",
    "        indices.append(char_to_ix['\\n'])\n",
    "\n",
    "    return indices\n",
    "\n"
   ]
  },
  {
   "cell_type": "code",
   "execution_count": 118,
   "metadata": {},
   "outputs": [],
   "source": [
    "def optimize(X, Y, a_prev, parameters, learning_rate = 0.01):\n",
    "\n",
    "    loss, cache = rnn_forward(X, Y, a_prev, parameters)\n",
    "\n",
    "    gradients, a = rnn_backward(X, Y, parameters, cache)\n",
    "\n",
    "    gradients = clip(gradients, 5)\n",
    "    \n",
    "    parameters = update_parameters(parameters, gradients, learning_rate)\n",
    "    \n",
    "    return loss, gradients, a[len(X)-1]"
   ]
  },
  {
   "cell_type": "code",
   "execution_count": 119,
   "metadata": {},
   "outputs": [],
   "source": [
    "def model(data_x, ix_to_char, char_to_ix, num_iterations = 35000, n_a = 50, dino_names = 7, vocab_size = 27, verbose = False):\n",
    "    n_x, n_y = vocab_size, vocab_size\n",
    "    \n",
    "    parameters = initialize_parameters(n_a, n_x, n_y)\n",
    "    \n",
    "    loss = get_initial_loss(vocab_size, dino_names)\n",
    "    \n",
    "    examples = [x.strip() for x in data_x]\n",
    "    \n",
    "    np.random.seed(0)\n",
    "    np.random.shuffle(examples)\n",
    "    \n",
    "    a_prev = np.zeros((n_a, 1))\n",
    "\n",
    "    all_results = []  # Store results here\n",
    "    \n",
    "    for j in range(num_iterations):\n",
    "\n",
    "        idx = j % len(examples)\n",
    "        \n",
    "        single_example_chars = examples[idx]\n",
    "        single_example_ix = [char_to_ix[c] for c in single_example_chars]\n",
    "\n",
    "        X = [None] + single_example_ix\n",
    "    \n",
    "        Y = X[1:]\n",
    "        ix_newline = [char_to_ix[\"\\n\"]]\n",
    "        Y = Y + ix_newline\n",
    "\n",
    "        curr_loss, gradients, a_prev = optimize(X, Y, a_prev, parameters, learning_rate = 0.01)\n",
    "        \n",
    "        if verbose and j in [0, len(examples) - 1, len(examples)]:\n",
    "            print(\"j =\", j, \"idx =\", idx)\n",
    "        if verbose and j == 0:\n",
    "            print(\"single_example_chars\", single_example_chars)\n",
    "            print(\"single_example_ix\", single_example_ix)\n",
    "            print(\"X =\", X, \"\\n\", \"Y =\", Y, \"\\n\")\n",
    "        \n",
    "        # Smooth loss\n",
    "        loss = smooth(loss, curr_loss)\n",
    "\n",
    "        # Every 1000 Iteration, generate \"n\" characters thanks to sample()\n",
    "        if j % 1000 == 0:\n",
    "            iteration_result = []\n",
    "            seed = 0\n",
    "            for name in range(dino_names):\n",
    "                sampled_indices = sample(parameters, char_to_ix, seed)\n",
    "                last_dino_name = get_sample(sampled_indices, ix_to_char).replace('\\n', '')\n",
    "                iteration_result.append(last_dino_name)\n",
    "                seed += 1\n",
    "            all_results.append((j, loss, iteration_result))\n",
    "    \n",
    "    # Print summary only\n",
    "    for iteration, iter_loss, names in all_results:\n",
    "        print(f\"Iteration {iteration}, Loss: {iter_loss:.4f}\")\n",
    "        print(\"Generated names:\", \", \".join(names))\n",
    "        print()\n",
    "    \n",
    "    return parameters, last_dino_name, all_results"
   ]
  },
  {
   "cell_type": "code",
   "execution_count": 120,
   "metadata": {},
   "outputs": [
    {
     "name": "stdout",
     "output_type": "stream",
     "text": [
      "j = 0 idx = 0\n",
      "single_example_chars turiasaurus\n",
      "single_example_ix [20, 21, 18, 9, 1, 19, 1, 21, 18, 21, 19]\n",
      "X = [None, 20, 21, 18, 9, 1, 19, 1, 21, 18, 21, 19] \n",
      " Y = [20, 21, 18, 9, 1, 19, 1, 21, 18, 21, 19, 0] \n",
      "\n",
      "j = 1535 idx = 1535\n",
      "j = 1536 idx = 0\n",
      "Iteration 0, Loss: 23.0873\n",
      "Generated names: Nkzxwtdmfqoeyhsqwasjkjvu, Kneb, Kzxwtdmfqoeyhsqwasjkjvu, Neb, Zxwtdmfqoeyhsqwasjkjvu, Eb, Xwtdmfqoeyhsqwasjkjvu\n",
      "\n",
      "Iteration 1000, Loss: 28.7127\n",
      "Generated names: Nivusahidoraveros, Ioia, Iwtroeoirtaurusabrngeseaosawgeanaitafeaolaeratohop, Nac, Xtroeoirtaurusabrngeseaosawgeanaitafeaolaeratohopr, Ca, Tseeohnnaveros\n",
      "\n",
      "Iteration 2000, Loss: 27.8842\n",
      "Generated names: Liusskeomnolxeros, Hmdaairus, Hytroligoraurus, Lecalosapaus, Xusicikoraurus, Abalpsamantisaurus, Tpraneronxeros\n",
      "\n",
      "Iteration 3000, Loss: 26.8636\n",
      "Generated names: Niusos, Infa, Iusrtendor, Nda, Wtrololos, Ca, Tps\n",
      "\n",
      "Iteration 4000, Loss: 25.9018\n",
      "Generated names: Mivrosaurus, Inee, Ivtroplisaurus, Mbaaisaurus, Wusichisaurus, Cabaselachus, Toraperlethosdarenitochusthiamamumamaon\n",
      "\n",
      "Iteration 5000, Loss: 25.2903\n",
      "Generated names: Ngyusedonis, Klecagropechus, Lytosaurus, Necagropechusangotmeeycerum, Xuskangosaurus, Da, Tosaurus\n",
      "\n",
      "Iteration 6000, Loss: 24.6088\n",
      "Generated names: Onwusceomosaurus, Lieeaerosaurus, Lxussaurus, Oma, Xusteonosaurus, Eeahosaurus, Toreonosaurus\n",
      "\n",
      "Iteration 7000, Loss: 24.4253\n",
      "Generated names: Ngytromiasaurus, Ingabcosaurus, Kyusichiropurusanrasauraptous, Necamithachusidinysaus, Yusodon, Caaesaurus, Tosaurus\n",
      "\n",
      "Iteration 8000, Loss: 24.0704\n",
      "Generated names: Onxusichepriuon, Kilabersaurus, Lutrodon, Omaaerosaurus, Xutrcheps, Edaksoje, Trodiktonus\n",
      "\n",
      "Iteration 9000, Loss: 23.7309\n",
      "Generated names: Onyusaurus, Klecanotal, Kyuspang, Ogaacosaurus, Xutrasaurus, Dabcosaurus, Troching\n",
      "\n",
      "Iteration 10000, Loss: 23.8444\n",
      "Generated names: Onyusaurus, Klecalosaurus, Lustodon, Ola, Xusodonia, Eeaeosaurus, Troceosaurus\n",
      "\n",
      "Iteration 11000, Loss: 23.5819\n",
      "Generated names: Leutosaurus, Inda, Itrtoplerosherotarangos, Lecalosaurus, Xutogolosaurus, Babator, Trodonosaurus\n",
      "\n",
      "Iteration 12000, Loss: 23.2920\n",
      "Generated names: Onyxosaurus, Kica, Lustrepiosaurus, Olaagrraiansaurus, Yuspangosaurus, Eealosaurus, Trognesaurus\n",
      "\n",
      "Iteration 13000, Loss: 23.5476\n",
      "Generated names: Nixrosaurus, Indabcosaurus, Jystolong, Necalosaurus, Yuspangosaurus, Daagosaurus, Usndicirax\n",
      "\n",
      "Iteration 14000, Loss: 23.3823\n",
      "Generated names: Meutromodromurus, Inda, Iutroinatorsaurus, Maca, Yusteratoptititan, Ca, Troclosaurus\n",
      "\n",
      "Iteration 15000, Loss: 23.0528\n",
      "Generated names: Phyusaurus, Lidaados, Lustrapops, Padaeronbanthuongxicayanosaurus, Yusrapnoraxaptodon, Edalosaurus, Trodong\n",
      "\n",
      "Iteration 16000, Loss: 23.2740\n",
      "Generated names: Meusqolonkomus, Inecaiptor, Iusosaurus, Macados, Yuskaniosaurus, Caahosaurus, Trodon\n",
      "\n",
      "Iteration 17000, Loss: 23.1660\n",
      "Generated names: Onytromiaineusaurus, Kiabahus, Lusus, Ola, Yusteongaiuon, Eeakosaurus, Trpendon\n",
      "\n",
      "Iteration 18000, Loss: 22.9043\n",
      "Generated names: Phytromichoryfosaurus, Mehaaisaurops, Mwstrosaurus, Pegalosaurus, Ytronopholus, Ehalosaurus, Tromegosaurus\n",
      "\n",
      "Iteration 19000, Loss: 23.0473\n",
      "Generated names: Onutrterhosaurus, Llibalsocednuotenius, Lystoloisaurus, Oldaissaedosaurus, Xustaomosaurus, Eiahosaurus, Trodolosaurus\n",
      "\n"
     ]
    }
   ],
   "source": [
    "parameters, last_name, all_results = model(data.split(\"\\n\"), ix_to_char, char_to_ix, 20000, verbose = True)"
   ]
  },
  {
   "cell_type": "code",
   "execution_count": 121,
   "metadata": {},
   "outputs": [
    {
     "data": {
      "text/plain": [
       "(19000,\n",
       " 23.047269921872125,\n",
       " ['Onutrterhosaurus',\n",
       "  'Llibalsocednuotenius',\n",
       "  'Lystoloisaurus',\n",
       "  'Oldaissaedosaurus',\n",
       "  'Xustaomosaurus',\n",
       "  'Eiahosaurus',\n",
       "  'Trodolosaurus'])"
      ]
     },
     "execution_count": 121,
     "metadata": {},
     "output_type": "execute_result"
    }
   ],
   "source": [
    "all_results[-1]"
   ]
  }
 ],
 "metadata": {
  "kernelspec": {
   "display_name": "Python 3",
   "language": "python",
   "name": "python3"
  },
  "language_info": {
   "codemirror_mode": {
    "name": "ipython",
    "version": 3
   },
   "file_extension": ".py",
   "mimetype": "text/x-python",
   "name": "python",
   "nbconvert_exporter": "python",
   "pygments_lexer": "ipython3",
   "version": "3.12.4"
  }
 },
 "nbformat": 4,
 "nbformat_minor": 2
}
