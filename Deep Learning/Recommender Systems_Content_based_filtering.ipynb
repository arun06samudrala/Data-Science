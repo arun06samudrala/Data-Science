{
 "cells": [
  {
   "cell_type": "code",
   "execution_count": 1,
   "metadata": {},
   "outputs": [],
   "source": [
    "import pandas as pd\n",
    "import numpy as np\n",
    "from sklearn.model_selection import train_test_split\n",
    "from sklearn.preprocessing import MinMaxScaler\n",
    "from tensorflow import keras\n",
    "from tensorflow.keras import layers\n",
    "from tensorflow.keras.callbacks import EarlyStopping, ReduceLROnPlateau\n",
    "from tensorflow.keras import regularizers"
   ]
  },
  {
   "cell_type": "code",
   "execution_count": 2,
   "metadata": {},
   "outputs": [],
   "source": [
    "ratings = pd.read_csv('/Users/arun/Downloads/ml-latest-small/ratings.csv')\n",
    "movies = pd.read_csv('/Users/arun/Downloads/ml-latest-small/movies.csv')"
   ]
  },
  {
   "cell_type": "code",
   "execution_count": 3,
   "metadata": {},
   "outputs": [
    {
     "data": {
      "text/html": [
       "<div>\n",
       "<style scoped>\n",
       "    .dataframe tbody tr th:only-of-type {\n",
       "        vertical-align: middle;\n",
       "    }\n",
       "\n",
       "    .dataframe tbody tr th {\n",
       "        vertical-align: top;\n",
       "    }\n",
       "\n",
       "    .dataframe thead th {\n",
       "        text-align: right;\n",
       "    }\n",
       "</style>\n",
       "<table border=\"1\" class=\"dataframe\">\n",
       "  <thead>\n",
       "    <tr style=\"text-align: right;\">\n",
       "      <th></th>\n",
       "      <th>userId</th>\n",
       "      <th>movieId</th>\n",
       "      <th>rating</th>\n",
       "      <th>timestamp</th>\n",
       "    </tr>\n",
       "  </thead>\n",
       "  <tbody>\n",
       "    <tr>\n",
       "      <th>0</th>\n",
       "      <td>1</td>\n",
       "      <td>1</td>\n",
       "      <td>4.0</td>\n",
       "      <td>964982703</td>\n",
       "    </tr>\n",
       "    <tr>\n",
       "      <th>1</th>\n",
       "      <td>1</td>\n",
       "      <td>3</td>\n",
       "      <td>4.0</td>\n",
       "      <td>964981247</td>\n",
       "    </tr>\n",
       "    <tr>\n",
       "      <th>2</th>\n",
       "      <td>1</td>\n",
       "      <td>6</td>\n",
       "      <td>4.0</td>\n",
       "      <td>964982224</td>\n",
       "    </tr>\n",
       "    <tr>\n",
       "      <th>3</th>\n",
       "      <td>1</td>\n",
       "      <td>47</td>\n",
       "      <td>5.0</td>\n",
       "      <td>964983815</td>\n",
       "    </tr>\n",
       "    <tr>\n",
       "      <th>4</th>\n",
       "      <td>1</td>\n",
       "      <td>50</td>\n",
       "      <td>5.0</td>\n",
       "      <td>964982931</td>\n",
       "    </tr>\n",
       "  </tbody>\n",
       "</table>\n",
       "</div>"
      ],
      "text/plain": [
       "   userId  movieId  rating  timestamp\n",
       "0       1        1     4.0  964982703\n",
       "1       1        3     4.0  964981247\n",
       "2       1        6     4.0  964982224\n",
       "3       1       47     5.0  964983815\n",
       "4       1       50     5.0  964982931"
      ]
     },
     "execution_count": 3,
     "metadata": {},
     "output_type": "execute_result"
    }
   ],
   "source": [
    "ratings.head()"
   ]
  },
  {
   "cell_type": "code",
   "execution_count": 4,
   "metadata": {},
   "outputs": [
    {
     "data": {
      "text/html": [
       "<div>\n",
       "<style scoped>\n",
       "    .dataframe tbody tr th:only-of-type {\n",
       "        vertical-align: middle;\n",
       "    }\n",
       "\n",
       "    .dataframe tbody tr th {\n",
       "        vertical-align: top;\n",
       "    }\n",
       "\n",
       "    .dataframe thead th {\n",
       "        text-align: right;\n",
       "    }\n",
       "</style>\n",
       "<table border=\"1\" class=\"dataframe\">\n",
       "  <thead>\n",
       "    <tr style=\"text-align: right;\">\n",
       "      <th></th>\n",
       "      <th>movieId</th>\n",
       "      <th>title</th>\n",
       "      <th>genres</th>\n",
       "    </tr>\n",
       "  </thead>\n",
       "  <tbody>\n",
       "    <tr>\n",
       "      <th>0</th>\n",
       "      <td>1</td>\n",
       "      <td>Toy Story (1995)</td>\n",
       "      <td>Adventure|Animation|Children|Comedy|Fantasy</td>\n",
       "    </tr>\n",
       "    <tr>\n",
       "      <th>1</th>\n",
       "      <td>2</td>\n",
       "      <td>Jumanji (1995)</td>\n",
       "      <td>Adventure|Children|Fantasy</td>\n",
       "    </tr>\n",
       "    <tr>\n",
       "      <th>2</th>\n",
       "      <td>3</td>\n",
       "      <td>Grumpier Old Men (1995)</td>\n",
       "      <td>Comedy|Romance</td>\n",
       "    </tr>\n",
       "    <tr>\n",
       "      <th>3</th>\n",
       "      <td>4</td>\n",
       "      <td>Waiting to Exhale (1995)</td>\n",
       "      <td>Comedy|Drama|Romance</td>\n",
       "    </tr>\n",
       "    <tr>\n",
       "      <th>4</th>\n",
       "      <td>5</td>\n",
       "      <td>Father of the Bride Part II (1995)</td>\n",
       "      <td>Comedy</td>\n",
       "    </tr>\n",
       "  </tbody>\n",
       "</table>\n",
       "</div>"
      ],
      "text/plain": [
       "   movieId                               title  \\\n",
       "0        1                    Toy Story (1995)   \n",
       "1        2                      Jumanji (1995)   \n",
       "2        3             Grumpier Old Men (1995)   \n",
       "3        4            Waiting to Exhale (1995)   \n",
       "4        5  Father of the Bride Part II (1995)   \n",
       "\n",
       "                                        genres  \n",
       "0  Adventure|Animation|Children|Comedy|Fantasy  \n",
       "1                   Adventure|Children|Fantasy  \n",
       "2                               Comedy|Romance  \n",
       "3                         Comedy|Drama|Romance  \n",
       "4                                       Comedy  "
      ]
     },
     "execution_count": 4,
     "metadata": {},
     "output_type": "execute_result"
    }
   ],
   "source": [
    "movies.head()"
   ]
  },
  {
   "cell_type": "code",
   "execution_count": 5,
   "metadata": {},
   "outputs": [],
   "source": [
    "movies['year'] = movies['title'].str.extract(r'\\((\\d{4})\\)').astype(float)"
   ]
  },
  {
   "cell_type": "code",
   "execution_count": 6,
   "metadata": {},
   "outputs": [],
   "source": [
    "movies['genres'] = movies['genres'].str.split('|')"
   ]
  },
  {
   "cell_type": "code",
   "execution_count": 7,
   "metadata": {},
   "outputs": [],
   "source": [
    "genres_list = sorted(set(genre for sublist in movies['genres'] for genre in sublist))\n",
    "for genre in genres_list:\n",
    "    movies[genre] = movies['genres'].apply(lambda x: 1 if genre in x else 0)"
   ]
  },
  {
   "cell_type": "code",
   "execution_count": 8,
   "metadata": {},
   "outputs": [],
   "source": [
    "movie_features = ratings.groupby('movieId').agg({'rating': ['mean', 'count']}).reset_index()\n",
    "movie_features.columns = ['movieId', 'avg_rating', 'num_ratings']"
   ]
  },
  {
   "cell_type": "code",
   "execution_count": 9,
   "metadata": {},
   "outputs": [],
   "source": [
    "movie_features = movie_features.merge(movies[['movieId', 'year'] + genres_list], on='movieId', how='left')"
   ]
  },
  {
   "cell_type": "code",
   "execution_count": 10,
   "metadata": {},
   "outputs": [],
   "source": [
    "movie_features.fillna(0, inplace=True)"
   ]
  },
  {
   "cell_type": "code",
   "execution_count": 11,
   "metadata": {},
   "outputs": [],
   "source": [
    "user_features = ratings.merge(movies[['movieId'] + genres_list], on='movieId')"
   ]
  },
  {
   "cell_type": "code",
   "execution_count": 12,
   "metadata": {},
   "outputs": [],
   "source": [
    "user_features = user_features.groupby(['userId'] + genres_list).agg({'rating': 'mean'}).reset_index()"
   ]
  },
  {
   "cell_type": "code",
   "execution_count": 13,
   "metadata": {},
   "outputs": [],
   "source": [
    "user_features = user_features.pivot(index='userId', columns=genres_list, values='rating').fillna(0).reset_index()"
   ]
  },
  {
   "cell_type": "code",
   "execution_count": 14,
   "metadata": {},
   "outputs": [],
   "source": [
    "user_features.fillna(0, inplace=True)"
   ]
  },
  {
   "cell_type": "code",
   "execution_count": 15,
   "metadata": {},
   "outputs": [],
   "source": [
    "user_features['avg_user_rating'] = ratings.groupby('userId')['rating'].mean().fillna(0).values"
   ]
  },
  {
   "cell_type": "code",
   "execution_count": 16,
   "metadata": {},
   "outputs": [],
   "source": [
    "user_ids = ratings['userId'].unique()\n",
    "movie_ids = ratings['movieId'].unique()"
   ]
  },
  {
   "cell_type": "code",
   "execution_count": 17,
   "metadata": {},
   "outputs": [],
   "source": [
    "unique_user_ids = {uid: idx for idx, uid in enumerate(user_ids)}\n",
    "unique_movie_ids = {mid: idx for idx, mid in enumerate(movie_ids)}"
   ]
  },
  {
   "cell_type": "code",
   "execution_count": 18,
   "metadata": {},
   "outputs": [
    {
     "name": "stderr",
     "output_type": "stream",
     "text": [
      "/var/folders/xz/_q1lhz9n52lb8rsrv2yy36dm0000gn/T/ipykernel_1538/662447657.py:2: PerformanceWarning: dropping on a non-lexsorted multi-index without a level parameter may impact performance.\n",
      "  user_features_scaled = scaler_user.fit_transform(user_features.drop(columns=['userId']))\n"
     ]
    }
   ],
   "source": [
    "scaler_user = MinMaxScaler()\n",
    "user_features_scaled = scaler_user.fit_transform(user_features.drop(columns=['userId']))"
   ]
  },
  {
   "cell_type": "code",
   "execution_count": 19,
   "metadata": {},
   "outputs": [],
   "source": [
    "scaler_movie = MinMaxScaler()\n",
    "movie_features_scaled = scaler_movie.fit_transform(movie_features.drop(columns=['movieId']))"
   ]
  },
  {
   "cell_type": "code",
   "execution_count": 20,
   "metadata": {},
   "outputs": [],
   "source": [
    "X_user = np.array([user_features_scaled[unique_user_ids[uid]] for uid in ratings['userId']])\n",
    "X_movie = np.array([movie_features_scaled[unique_movie_ids[mid]] for mid in ratings['movieId']])\n",
    "y = ratings['rating'].values"
   ]
  },
  {
   "cell_type": "code",
   "execution_count": 21,
   "metadata": {},
   "outputs": [],
   "source": [
    "y = np.clip(y, 0, 5)"
   ]
  },
  {
   "cell_type": "code",
   "execution_count": 22,
   "metadata": {},
   "outputs": [],
   "source": [
    "user_id_train = np.array([unique_user_ids[uid] for uid in ratings['userId']])\n",
    "movie_id_train = np.array([unique_movie_ids[mid] for mid in ratings['movieId']])"
   ]
  },
  {
   "cell_type": "code",
   "execution_count": 23,
   "metadata": {},
   "outputs": [],
   "source": [
    "X_user_train, X_user_test, X_movie_train, X_movie_test, y_train, y_test, user_id_train, user_id_test, movie_id_train, movie_id_test = train_test_split(\n",
    "    X_user, X_movie, y, user_id_train, movie_id_train, test_size=0.2, random_state=42)"
   ]
  },
  {
   "cell_type": "code",
   "execution_count": 24,
   "metadata": {},
   "outputs": [],
   "source": [
    "user_input = layers.Input(shape=(X_user_train.shape[1],))\n",
    "movie_input = layers.Input(shape=(X_movie_train.shape[1],))\n",
    "user_id_input = layers.Input(shape=(1,))\n",
    "movie_id_input = layers.Input(shape=(1,))"
   ]
  },
  {
   "cell_type": "code",
   "execution_count": 25,
   "metadata": {},
   "outputs": [],
   "source": [
    "user_embedding = layers.Embedding(input_dim=len(unique_user_ids), output_dim=16)(user_id_input)\n",
    "movie_embedding = layers.Embedding(input_dim=len(unique_movie_ids), output_dim=16)(movie_id_input)\n",
    "user_embedding = layers.Flatten()(user_embedding)\n",
    "movie_embedding = layers.Flatten()(movie_embedding)"
   ]
  },
  {
   "cell_type": "code",
   "execution_count": 26,
   "metadata": {},
   "outputs": [],
   "source": [
    "user_dense = layers.Dense(64, activation='relu', kernel_regularizer=regularizers.l2(0.001))(user_input)\n",
    "user_dense = layers.BatchNormalization()(user_dense)\n",
    "user_dense = layers.Dropout(0.2)(user_dense)\n",
    "user_dense = layers.Dense(32, activation='relu', kernel_regularizer=regularizers.l2(0.001))(user_dense)"
   ]
  },
  {
   "cell_type": "code",
   "execution_count": 27,
   "metadata": {},
   "outputs": [],
   "source": [
    "movie_dense = layers.Dense(64, activation='relu', kernel_regularizer=regularizers.l2(0.001))(movie_input)\n",
    "movie_dense = layers.BatchNormalization()(movie_dense)\n",
    "movie_dense = layers.Dropout(0.2)(movie_dense)\n",
    "movie_dense = layers.Dense(32, activation='relu', kernel_regularizer=regularizers.l2(0.001))(movie_dense)"
   ]
  },
  {
   "cell_type": "code",
   "execution_count": 28,
   "metadata": {},
   "outputs": [],
   "source": [
    "dot_product = layers.Dot(axes=1)([user_dense, movie_dense])"
   ]
  },
  {
   "cell_type": "code",
   "execution_count": 29,
   "metadata": {},
   "outputs": [],
   "source": [
    "model = keras.Model(inputs=[user_input, movie_input, user_id_input, movie_id_input], outputs=dot_product)"
   ]
  },
  {
   "cell_type": "code",
   "execution_count": 30,
   "metadata": {},
   "outputs": [],
   "source": [
    "model.compile(optimizer=keras.optimizers.Adam(learning_rate=0.0001), loss='mean_squared_error')"
   ]
  },
  {
   "cell_type": "code",
   "execution_count": 31,
   "metadata": {},
   "outputs": [],
   "source": [
    "early_stopping = EarlyStopping(monitor='val_loss', patience=3, restore_best_weights=True)\n",
    "reduce_lr = ReduceLROnPlateau(monitor='val_loss', factor=0.2, patience=2, min_lr=0.00001)"
   ]
  },
  {
   "cell_type": "code",
   "execution_count": 32,
   "metadata": {},
   "outputs": [
    {
     "name": "stdout",
     "output_type": "stream",
     "text": [
      "Epoch 1/20\n",
      "\u001b[1m2521/2521\u001b[0m \u001b[32m━━━━━━━━━━━━━━━━━━━━\u001b[0m\u001b[37m\u001b[0m \u001b[1m4s\u001b[0m 1ms/step - loss: 9.6761 - val_loss: 3.1614 - learning_rate: 1.0000e-04\n",
      "Epoch 2/20\n",
      "\u001b[1m2521/2521\u001b[0m \u001b[32m━━━━━━━━━━━━━━━━━━━━\u001b[0m\u001b[37m\u001b[0m \u001b[1m2s\u001b[0m 971us/step - loss: 2.9327 - val_loss: 2.4907 - learning_rate: 1.0000e-04\n",
      "Epoch 3/20\n",
      "\u001b[1m2521/2521\u001b[0m \u001b[32m━━━━━━━━━━━━━━━━━━━━\u001b[0m\u001b[37m\u001b[0m \u001b[1m3s\u001b[0m 1ms/step - loss: 2.3985 - val_loss: 2.0814 - learning_rate: 1.0000e-04\n",
      "Epoch 4/20\n",
      "\u001b[1m2521/2521\u001b[0m \u001b[32m━━━━━━━━━━━━━━━━━━━━\u001b[0m\u001b[37m\u001b[0m \u001b[1m2s\u001b[0m 928us/step - loss: 2.0431 - val_loss: 1.8040 - learning_rate: 1.0000e-04\n",
      "Epoch 5/20\n",
      "\u001b[1m2521/2521\u001b[0m \u001b[32m━━━━━━━━━━━━━━━━━━━━\u001b[0m\u001b[37m\u001b[0m \u001b[1m2s\u001b[0m 980us/step - loss: 1.7834 - val_loss: 1.6847 - learning_rate: 1.0000e-04\n",
      "Epoch 6/20\n",
      "\u001b[1m2521/2521\u001b[0m \u001b[32m━━━━━━━━━━━━━━━━━━━━\u001b[0m\u001b[37m\u001b[0m \u001b[1m2s\u001b[0m 902us/step - loss: 1.5968 - val_loss: 1.4873 - learning_rate: 1.0000e-04\n",
      "Epoch 7/20\n",
      "\u001b[1m2521/2521\u001b[0m \u001b[32m━━━━━━━━━━━━━━━━━━━━\u001b[0m\u001b[37m\u001b[0m \u001b[1m2s\u001b[0m 870us/step - loss: 1.4851 - val_loss: 1.4029 - learning_rate: 1.0000e-04\n",
      "Epoch 8/20\n",
      "\u001b[1m2521/2521\u001b[0m \u001b[32m━━━━━━━━━━━━━━━━━━━━\u001b[0m\u001b[37m\u001b[0m \u001b[1m2s\u001b[0m 893us/step - loss: 1.3903 - val_loss: 1.3172 - learning_rate: 1.0000e-04\n",
      "Epoch 9/20\n",
      "\u001b[1m2521/2521\u001b[0m \u001b[32m━━━━━━━━━━━━━━━━━━━━\u001b[0m\u001b[37m\u001b[0m \u001b[1m2s\u001b[0m 896us/step - loss: 1.3118 - val_loss: 1.2524 - learning_rate: 1.0000e-04\n",
      "Epoch 10/20\n",
      "\u001b[1m2521/2521\u001b[0m \u001b[32m━━━━━━━━━━━━━━━━━━━━\u001b[0m\u001b[37m\u001b[0m \u001b[1m2s\u001b[0m 895us/step - loss: 1.2352 - val_loss: 1.1842 - learning_rate: 1.0000e-04\n",
      "Epoch 11/20\n",
      "\u001b[1m2521/2521\u001b[0m \u001b[32m━━━━━━━━━━━━━━━━━━━━\u001b[0m\u001b[37m\u001b[0m \u001b[1m2s\u001b[0m 888us/step - loss: 1.1962 - val_loss: 1.1368 - learning_rate: 1.0000e-04\n",
      "Epoch 12/20\n",
      "\u001b[1m2521/2521\u001b[0m \u001b[32m━━━━━━━━━━━━━━━━━━━━\u001b[0m\u001b[37m\u001b[0m \u001b[1m2s\u001b[0m 894us/step - loss: 1.1431 - val_loss: 1.1109 - learning_rate: 1.0000e-04\n",
      "Epoch 13/20\n",
      "\u001b[1m2521/2521\u001b[0m \u001b[32m━━━━━━━━━━━━━━━━━━━━\u001b[0m\u001b[37m\u001b[0m \u001b[1m2s\u001b[0m 863us/step - loss: 1.1138 - val_loss: 1.1034 - learning_rate: 1.0000e-04\n",
      "Epoch 14/20\n",
      "\u001b[1m2521/2521\u001b[0m \u001b[32m━━━━━━━━━━━━━━━━━━━━\u001b[0m\u001b[37m\u001b[0m \u001b[1m2s\u001b[0m 881us/step - loss: 1.0873 - val_loss: 1.0550 - learning_rate: 1.0000e-04\n",
      "Epoch 15/20\n",
      "\u001b[1m2521/2521\u001b[0m \u001b[32m━━━━━━━━━━━━━━━━━━━━\u001b[0m\u001b[37m\u001b[0m \u001b[1m2s\u001b[0m 902us/step - loss: 1.0681 - val_loss: 1.0576 - learning_rate: 1.0000e-04\n",
      "Epoch 16/20\n",
      "\u001b[1m2521/2521\u001b[0m \u001b[32m━━━━━━━━━━━━━━━━━━━━\u001b[0m\u001b[37m\u001b[0m \u001b[1m2s\u001b[0m 863us/step - loss: 1.0457 - val_loss: 1.0187 - learning_rate: 1.0000e-04\n",
      "Epoch 17/20\n",
      "\u001b[1m2521/2521\u001b[0m \u001b[32m━━━━━━━━━━━━━━━━━━━━\u001b[0m\u001b[37m\u001b[0m \u001b[1m2s\u001b[0m 912us/step - loss: 1.0208 - val_loss: 1.0116 - learning_rate: 1.0000e-04\n",
      "Epoch 18/20\n",
      "\u001b[1m2521/2521\u001b[0m \u001b[32m━━━━━━━━━━━━━━━━━━━━\u001b[0m\u001b[37m\u001b[0m \u001b[1m2s\u001b[0m 938us/step - loss: 1.0064 - val_loss: 1.0113 - learning_rate: 1.0000e-04\n",
      "Epoch 19/20\n",
      "\u001b[1m2521/2521\u001b[0m \u001b[32m━━━━━━━━━━━━━━━━━━━━\u001b[0m\u001b[37m\u001b[0m \u001b[1m2s\u001b[0m 899us/step - loss: 1.0094 - val_loss: 1.0202 - learning_rate: 1.0000e-04\n",
      "Epoch 20/20\n",
      "\u001b[1m2521/2521\u001b[0m \u001b[32m━━━━━━━━━━━━━━━━━━━━\u001b[0m\u001b[37m\u001b[0m \u001b[1m2s\u001b[0m 899us/step - loss: 0.9894 - val_loss: 0.9871 - learning_rate: 1.0000e-04\n"
     ]
    }
   ],
   "source": [
    "history = model.fit(\n",
    "    [X_user_train, X_movie_train, user_id_train, movie_id_train],\n",
    "    y_train,\n",
    "    epochs=20,\n",
    "    batch_size=32,\n",
    "    validation_data=([X_user_test, X_movie_test, user_id_test, movie_id_test], y_test),\n",
    "    callbacks=[early_stopping, reduce_lr]\n",
    ")"
   ]
  },
  {
   "cell_type": "code",
   "execution_count": 33,
   "metadata": {},
   "outputs": [],
   "source": [
    "def get_top_n_recommendations(user_id, n=10):\n",
    "    if user_id not in unique_user_ids:\n",
    "        raise ValueError(\"User ID is not valid.\")\n",
    "    \n",
    "    user_index = unique_user_ids[user_id]\n",
    "    movie_indices = np.arange(len(movie_ids))\n",
    "\n",
    "    user_data = np.tile(user_features_scaled[user_index], (len(movie_indices), 1))\n",
    "    movie_data = movie_features_scaled\n",
    "\n",
    "    predicted_ratings = model.predict([user_data, movie_data, np.full(len(movie_ids), user_index), movie_indices])\n",
    "\n",
    "    predicted_ratings = np.clip(predicted_ratings, 0, 5)\n",
    "\n",
    "    predicted_ratings = np.round(predicted_ratings * 2) / 2\n",
    "\n",
    "    predicted_ratings = [(movies['title'].iloc[i], predicted_ratings[i][0]) for i in range(len(movie_ids))]\n",
    "\n",
    "    top_n_movies = sorted(predicted_ratings, key=lambda x: x[1], reverse=True)[:n]\n",
    "    \n",
    "    for title, rating in top_n_movies:\n",
    "        print(f\"{title}: {rating:.1f}\")"
   ]
  },
  {
   "cell_type": "code",
   "execution_count": 34,
   "metadata": {},
   "outputs": [
    {
     "name": "stdout",
     "output_type": "stream",
     "text": [
      "\u001b[1m304/304\u001b[0m \u001b[32m━━━━━━━━━━━━━━━━━━━━\u001b[0m\u001b[37m\u001b[0m \u001b[1m0s\u001b[0m 594us/step\n",
      "Melinda and Melinda (2004): 5.0\n",
      "Slumdog Millionaire (2008): 5.0\n",
      "Highlander: The Search for Vengeance (2007): 5.0\n",
      "Dumb and Dumber To (2014): 5.0\n",
      "City of Lost Children, The (Cité des enfants perdus, La) (1995): 4.5\n",
      "Mad Dog and Glory (1993): 4.5\n",
      "District 9 (2009): 4.5\n",
      "Prime Suspect: The Lost Child (1995): 4.5\n",
      "Freezer (2014): 4.5\n",
      "Grumpier Old Men (1995): 4.0\n"
     ]
    }
   ],
   "source": [
    "get_top_n_recommendations(user_id=2, n=10)"
   ]
  }
 ],
 "metadata": {
  "kernelspec": {
   "display_name": "Python 3",
   "language": "python",
   "name": "python3"
  },
  "language_info": {
   "codemirror_mode": {
    "name": "ipython",
    "version": 3
   },
   "file_extension": ".py",
   "mimetype": "text/x-python",
   "name": "python",
   "nbconvert_exporter": "python",
   "pygments_lexer": "ipython3",
   "version": "3.12.4"
  }
 },
 "nbformat": 4,
 "nbformat_minor": 2
}
